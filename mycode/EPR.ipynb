{
 "cells": [
  {
   "cell_type": "code",
   "execution_count": 1,
   "id": "aca76389-3622-45b1-84e4-2522c9ad9783",
   "metadata": {},
   "outputs": [
    {
     "name": "stdout",
     "output_type": "stream",
     "text": [
      "     ┌───┐     ┌─┐   \n",
      "q_0: ┤ H ├──■──┤M├───\n",
      "     └───┘┌─┴─┐└╥┘┌─┐\n",
      "q_1: ─────┤ X ├─╫─┤M├\n",
      "          └───┘ ║ └╥┘\n",
      "c: 2/═══════════╩══╩═\n",
      "                0  1 \n",
      "\n",
      "Total count for 00, 01, 10, 11 are: {'00': 498, '11': 502}\n"
     ]
    }
   ],
   "source": [
    "# Import the necessary packages\n",
    "from qiskit import QuantumCircuit, QuantumRegister, ClassicalRegister\n",
    "from qiskit import execute, Aer\n",
    "\n",
    "# Quantum circuit to build Hadamard bit\n",
    "q = QuantumRegister(2, 'q')\n",
    "c = ClassicalRegister(2, 'c')\n",
    "\n",
    "# Create a Quantum Circuit acting on the q register\n",
    "circ = QuantumCircuit(q, c)\n",
    "\n",
    "# Add a H gate on qubit 0, putting this qubit in superposition\n",
    "circ.h(q[0])\n",
    "circ.cx(q[0], q[1])\n",
    "\n",
    "# Add a Measure gate to see the state.\n",
    "circ.measure(q, c)\n",
    "\n",
    "# Draw the circuit\n",
    "# The submission file should have a similar circuit diagram in the cell output\n",
    "print(circ.draw())\n",
    "\n",
    "# Execute the circuit on the qasm simulator\n",
    "simulator = Aer.get_backend('qasm_simulator')\n",
    "job = execute(circ, simulator, shots=1000)\n",
    "\n",
    "# Grab results from the job\n",
    "result = job.result()\n",
    "\n",
    "# Returns counts\n",
    "counts = result.get_counts(circ)\n",
    "print(\"\\nTotal count for 00, 01, 10, 11 are:\",counts)\n"
   ]
  }
 ],
 "metadata": {
  "kernelspec": {
   "display_name": "Python 3 (ipykernel)",
   "language": "python",
   "name": "python3"
  },
  "language_info": {
   "codemirror_mode": {
    "name": "ipython",
    "version": 3
   },
   "file_extension": ".py",
   "mimetype": "text/x-python",
   "name": "python",
   "nbconvert_exporter": "python",
   "pygments_lexer": "ipython3",
   "version": "3.10.6"
  }
 },
 "nbformat": 4,
 "nbformat_minor": 5
}
