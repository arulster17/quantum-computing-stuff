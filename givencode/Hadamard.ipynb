{
 "cells": [
  {
   "cell_type": "code",
   "execution_count": 17,
   "metadata": {},
   "outputs": [],
   "source": [
    "# Import the necessary packages\n",
    "from qiskit import QuantumCircuit, QuantumRegister, ClassicalRegister\n",
    "from qiskit import execute, Aer"
   ]
  },
  {
   "cell_type": "code",
   "execution_count": 18,
   "metadata": {},
   "outputs": [],
   "source": [
    "\n",
    "# Quantum circuit to build Hadamard bit\n",
    "q = QuantumRegister(1, 'q')\n",
    "c = ClassicalRegister(1, 'c')"
   ]
  },
  {
   "cell_type": "code",
   "execution_count": 19,
   "metadata": {},
   "outputs": [
    {
     "data": {
      "text/plain": [
       "<qiskit.circuit.instructionset.InstructionSet at 0x13350f970>"
      ]
     },
     "execution_count": 19,
     "metadata": {},
     "output_type": "execute_result"
    }
   ],
   "source": [
    "# Create a Quantum Circuit acting on the q register\n",
    "circ = QuantumCircuit(q, c)\n",
    "\n",
    "# Add a H gate on qubit 0, putting this qubit in superposition\n",
    "circ.h(q[0])\n",
    "\n",
    "# Add a Measure gate to see the state.\n",
    "circ.measure(q, c)"
   ]
  },
  {
   "cell_type": "code",
   "execution_count": 20,
   "metadata": {},
   "outputs": [
    {
     "name": "stdout",
     "output_type": "stream",
     "text": [
      "     ┌───┐┌─┐\n",
      "  q: ┤ H ├┤M├\n",
      "     └───┘└╥┘\n",
      "c: 1/══════╩═\n",
      "           0 \n"
     ]
    }
   ],
   "source": [
    "# Draw the circuit\n",
    "# The submission file should have a similar circuit diagram in the cell output\n",
    "print(circ.draw())"
   ]
  },
  {
   "cell_type": "code",
   "execution_count": 21,
   "metadata": {},
   "outputs": [],
   "source": [
    "# Execute the circuit on the qasm simulator\n",
    "simulator = Aer.get_backend('qasm_simulator')\n",
    "job = execute(circ, simulator, shots=1000)\n",
    "\n",
    "# Grab results from the job\n",
    "result = job.result()"
   ]
  },
  {
   "cell_type": "code",
   "execution_count": 22,
   "metadata": {},
   "outputs": [
    {
     "name": "stdout",
     "output_type": "stream",
     "text": [
      "\n",
      "Total count for 0 and 1 are: {'1': 560, '0': 440}\n"
     ]
    }
   ],
   "source": [
    "# Returns counts\n",
    "# The submission file should have the counts similarly in the cell output\n",
    "counts = result.get_counts(circ)\n",
    "print(\"\\nTotal count for 0 and 1 are:\",counts)"
   ]
  },
  {
   "cell_type": "code",
   "execution_count": 23,
   "metadata": {},
   "outputs": [
    {
     "name": "stdout",
     "output_type": "stream",
     "text": [
      "     ┌───┐     ┌─┐   \n",
      "q_0: ┤ X ├──■──┤M├───\n",
      "     └───┘┌─┴─┐└╥┘┌─┐\n",
      "q_1: ─────┤ X ├─╫─┤M├\n",
      "          └───┘ ║ └╥┘\n",
      "c: 2/═══════════╩══╩═\n",
      "                0  1 \n",
      "\n",
      "Total count for 00, 01, 10, 11 are: {'11': 1000}\n"
     ]
    }
   ],
   "source": [
    "# Example for adding other gates like X and CNOT\n",
    "# The input 00 gives the output 11\n",
    "\n",
    "# Quantum circuit to build Hadamard bit\n",
    "q = QuantumRegister(2, 'q')\n",
    "c = ClassicalRegister(2, 'c')\n",
    "\n",
    "# Create a Quantum Circuit acting on the q register\n",
    "circ = QuantumCircuit(q, c)\n",
    "\n",
    "# Add X gate to qubit 0\n",
    "circ.x(q[0])\n",
    "\n",
    "# Add a CX (CNOT) gate on control qubit 0 and target qubit 1\n",
    "circ.cx(q[0], q[1])\n",
    "\n",
    "# Add a Measure gate to see the state.\n",
    "circ.measure(q, c)\n",
    "\n",
    "# Draw the circuit\n",
    "print(circ.draw())\n",
    "\n",
    "# Execute the circuit on the qasm simulator\n",
    "simulator = Aer.get_backend('qasm_simulator')\n",
    "job = execute(circ, simulator, shots=1000)\n",
    "\n",
    "# Grab results from the job\n",
    "result = job.result()\n",
    "\n",
    "# Returns counts\n",
    "counts = result.get_counts(circ)\n",
    "print(\"\\nTotal count for 00, 01, 10, 11 are:\",counts)\n"
   ]
  },
  {
   "cell_type": "code",
   "execution_count": null,
   "metadata": {},
   "outputs": [],
   "source": []
  }
 ],
 "metadata": {
  "kernelspec": {
   "display_name": "Python 3 (ipykernel)",
   "language": "python",
   "name": "python3"
  },
  "language_info": {
   "codemirror_mode": {
    "name": "ipython",
    "version": 3
   },
   "file_extension": ".py",
   "mimetype": "text/x-python",
   "name": "python",
   "nbconvert_exporter": "python",
   "pygments_lexer": "ipython3",
   "version": "3.10.6"
  }
 },
 "nbformat": 4,
 "nbformat_minor": 4
}
